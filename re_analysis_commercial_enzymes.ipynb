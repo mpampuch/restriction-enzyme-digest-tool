{
 "cells": [
  {
   "cell_type": "code",
   "execution_count": 35,
   "metadata": {},
   "outputs": [],
   "source": [
    "from Bio import Restriction\n",
    "from Bio.Seq import Seq\n",
    "from Bio import SeqIO\n",
    "import contextlib\n",
    "import io\n",
    "from statistics import mean\n",
    "from statistics import median\n"
   ]
  },
  {
   "cell_type": "code",
   "execution_count": 39,
   "metadata": {},
   "outputs": [],
   "source": [
    "new_assembly = {}\n",
    "old_assembly = {}\n",
    "with open(\"./dans_new_nuclear_assembly_with_chloroplast_and_mitochondrion_single_lined.fa\") as new:\n",
    "    for record in SeqIO.parse(new, \"fasta\"):\n",
    "        new_assembly[record.id] = record.seq\n",
    "        \n",
    "with open(\"./Phaeodactylum_tricornutum.ASM15095v2.dna.toplevel.fa\") as old:\n",
    "    for record in SeqIO.parse(old, \"fasta\"):\n",
    "        old_assembly[record.id] = record.seq\n"
   ]
  },
  {
   "cell_type": "code",
   "execution_count": 40,
   "metadata": {},
   "outputs": [],
   "source": [
    "new_assembly_w_c_and_m = Seq(\"\".join([str(v) for k, v in new_assembly.items()]))\n",
    "old_assembly_w_c_and_m = Seq(\"\".join([str(v) for k, v in old_assembly.items()]))\n",
    "\n",
    "new_assembly_nuclear = Seq(\"\".join([str(v) for k, v in new_assembly.items() if k != \"chloroplast\" and k != \"mitochondrion\"]))\n",
    "old_assembly_nuclear = Seq(\"\".join([str(v) for k, v in old_assembly.items() if k != \"chloroplast\" and k != \"mitochondrion\"]))"
   ]
  },
  {
   "cell_type": "code",
   "execution_count": 41,
   "metadata": {},
   "outputs": [],
   "source": [
    "nat_construct = Seq(\"ctcgagACTAGCTTGATTGGGATATCTCGCTCGTGCTTGTCGCGTGCTATGTCTTTTAGGGTACTTGAACCTACGTTCGTACTTGTATAATATGATCATCGTCGTCATCGTATTATCGTTTTTCATCCGTCCAGCGCAAAATGCATTAGCAGCTAGTCCTAGCGTGCGGAGCTACCTGTACAGGTGCATGACGGATGCGTGTCCTTAAGTGAGTTTCTAATTAACAGTAACTTCTTTACTTATGTTTCAGTTTGTAAGAAGCGGGATTCGCTCGTCGGTTGACATCTGATTGGACTGCGTCGGCACGTGAAAACTACATTGTGAAATCTGCTAAAACTCCGGGTATCTCTGACACAAAACGATTCGCGTCTCAATTTCAACATTACGGTCAAGGCTAACGTATCTTTCTCGGTCAACTTCAGATTACGCCGAGTAAATTGTCGTAGCTTTCAAGGCGTTTTGAGTACTGCGGCAGTTGTTGAACCTGCAAGGAGAAGATCTCGACAACAGAATACAGCGAAAAATGGGTCTCATGCACTAACACTCAGTCCTCCCTCATAATCTCTGTTAGAGTTTACCAACAACACATATATACATTTCGACAAAATGACCACTCTTGACGACACGGCTTACCGGTACCGCACCAGTGTCCCGGGGGACGCCGAGGCCATCGAGGCACTGGATGGGTCCTTCACCACCGACACCGTCTTCCGCGTCACCGCCACCGGGGACGGCTTCACCCTGCGGGAGGTGCCGGTGGACCCGCCCCTGACCAAGGTGTTCCCCGACGACGAATCGGACGACGAATCGGACGCCGGGGAGGACGGCGACCCGGACTCCCGGACGTTCGTCGCGTACGGGGACGACGGCGACCTGGCGGGCTTCGTGGTCGTCTCGTACTCCGGCTGGAACCGCCGGCTGACCGTCGAGGACATCGAGGTCGCCCCGGAGCACCGGGGGCACGGGGTCGGGCGCGCGTTGATGGGGCTCGCGACGGAGTTCGCCCGCGAGCGGGGCGCCGGGCACCTCTGGCTGGAGGTCACCAACGTCAACGCACCGGCGATCCACGCGTACCGGCGGATGGGGTTCACCCTCTGCGGCCTGGACACCGCCCTGTACGACGGCACCGCCTCGGACGGCGAGCAGGCGCTCTACATGAGCATGCCCTGCCCCTGACCGACGCCGACCAACACCGCCGGTCCGACGCGGCCCGACGGGTCCGAGGCCTCGGAGATCTGGGCCCATGCGGCCGCAACAACTACCTCGACTTTGGCTGGGACACTTTCAGTGAGGACAAGAAGCTTCAGAAGCGTGCTATCGAACTCAACCAGGGACGTGCGGCACAAATGGGCATCCTTGCTCTCATGGTGCACGAACAGTTGGGAGTCTCTATCCTTCCTTAAAAATTTAATTTTCATTAGTTGctcgag\")"
   ]
  },
  {
   "cell_type": "code",
   "execution_count": 42,
   "metadata": {},
   "outputs": [],
   "source": [
    "enzymes = {str(x): getattr(Restriction, str(x)) for x in sorted(list(Restriction.AllEnzymes))}\n"
   ]
  },
  {
   "cell_type": "code",
   "execution_count": 43,
   "metadata": {},
   "outputs": [],
   "source": [
    "nat_analysis = Restriction.Analysis(Restriction.CommOnly, nat_construct, linear=True)"
   ]
  },
  {
   "cell_type": "code",
   "execution_count": 53,
   "metadata": {},
   "outputs": [
    {
     "data": {
      "text/plain": [
       "'C^TCGA_G'"
      ]
     },
     "execution_count": 53,
     "metadata": {},
     "output_type": "execute_result"
    }
   ],
   "source": [
    "Restriction.XhoI.elucidate()"
   ]
  },
  {
   "cell_type": "code",
   "execution_count": 45,
   "metadata": {},
   "outputs": [],
   "source": [
    "with open(\"nat_construct_COMMERICAL_re_analysis.txt\", \"w\") as f:\n",
    "    with contextlib.redirect_stdout(f):\n",
    "        print(f\"Restriction site analysis of the NAT construct (WITH COMMERCIAL ENZYMES)\\nSequence:\\n{nat_construct}\")\n",
    "        nat_analysis.print_as('number')\n",
    "        nat_analysis.print_that()"
   ]
  },
  {
   "cell_type": "code",
   "execution_count": 46,
   "metadata": {},
   "outputs": [
    {
     "name": "stdout",
     "output_type": "stream",
     "text": [
      "477\n",
      "Unknown\n",
      "5\n",
      "Unknown\n",
      "(Seq('C'), Seq('TCGAGACTAGCTTGATTGGGATATCTCGCTCGTGCTTGTCGCGTGCTATGTCTT...TGC'), Seq('TCGAG'))\n",
      "477\n"
     ]
    }
   ],
   "source": [
    "def find_avg_product_length(enzyme, sequence):\n",
    "    try: \n",
    "        avg = round(mean(map(len, enzyme.catalyse(sequence))))\n",
    "        return avg\n",
    "    except:\n",
    "        return \"Unknown\"\n",
    "\n",
    "def find_median_product_length(enzyme, sequence):\n",
    "    try: \n",
    "        avg = round(median(map(len, enzyme.catalyse(sequence))))\n",
    "        return avg\n",
    "    except:\n",
    "        return \"Unknown\"\n",
    "    \n",
    "print(find_avg_product_length(Restriction.XhoI, nat_construct))\n",
    "print(find_avg_product_length(Restriction.AhyYL17I, nat_construct))\n",
    "\n",
    "print(find_median_product_length(Restriction.XhoI, nat_construct))\n",
    "print(find_median_product_length(Restriction.AhyYL17I, nat_construct))\n",
    "print(Restriction.XhoI.catalyse(nat_construct))\n",
    "# print(catch_unknown_restriction(Restriction.AhyYL17I))\n",
    "\n",
    "print(f\"{find_avg_product_length(Restriction.XhoI, nat_construct)}\")\n",
    "# # print(f\"{\"Unknown\" if catch_unknown_restriction(AhyYL17I) == True else round(mean(map(len, Restriction.AhyYL17I.catalyse(nat_construct))))}\")"
   ]
  },
  {
   "cell_type": "code",
   "execution_count": 47,
   "metadata": {},
   "outputs": [
    {
     "data": {
      "text/plain": [
       "32"
      ]
     },
     "execution_count": 47,
     "metadata": {},
     "output_type": "execute_result"
    }
   ],
   "source": [
    "number_list = [45, 34, 10, 36, 12, 6, 80]\n",
    "round(mean(number_list))"
   ]
  },
  {
   "cell_type": "code",
   "execution_count": 48,
   "metadata": {},
   "outputs": [
    {
     "data": {
      "text/plain": [
       "[Bio.Restriction.Restriction.Analysis,\n",
       " Bio.Restriction.Restriction.RestrictionBatch,\n",
       " set,\n",
       " Bio.Restriction.PrintFormat.PrintFormat,\n",
       " object]"
      ]
     },
     "execution_count": 48,
     "metadata": {},
     "output_type": "execute_result"
    }
   ],
   "source": [
    "nat_analysis.__class__.mro()"
   ]
  },
  {
   "cell_type": "code",
   "execution_count": 49,
   "metadata": {},
   "outputs": [],
   "source": [
    "enzymes_that_dont_cut_nat = Restriction.RestrictionBatch([k for k, v in nat_analysis.full().items() if v == []])"
   ]
  },
  {
   "cell_type": "code",
   "execution_count": 50,
   "metadata": {},
   "outputs": [],
   "source": [
    "# nat_analysis.full()"
   ]
  },
  {
   "cell_type": "code",
   "execution_count": 51,
   "metadata": {},
   "outputs": [],
   "source": [
    "old_nuclear_analysis = Restriction.Analysis(enzymes_that_dont_cut_nat, old_assembly_nuclear, linear=True)"
   ]
  },
  {
   "cell_type": "code",
   "execution_count": 52,
   "metadata": {},
   "outputs": [
    {
     "data": {
      "text/plain": [
       "[(AsuNHI, 4371),\n",
       " (AsuII, 11970),\n",
       " (AspA2I, 1214),\n",
       " (Aor13HI, 8612),\n",
       " (PdmI, 12780)]"
      ]
     },
     "execution_count": 52,
     "metadata": {},
     "output_type": "execute_result"
    }
   ],
   "source": [
    "num_of_cuts_in_old_n_genome_per_enzyme = {k:len(v) for k,v in old_nuclear_analysis.full().items()}\n",
    "\n",
    "\n",
    "sorted_num_of_cuts_in_old_n_genome_per_enzyme = {k: v for k, v in sorted(num_of_cuts_in_old_n_genome_per_enzyme.items(), key=lambda item: item[1])}\n",
    "\n",
    "type(list(num_of_cuts_in_old_n_genome_per_enzyme.items())[0][1])\n",
    "\n",
    "list(num_of_cuts_in_old_n_genome_per_enzyme.items())[0:5]"
   ]
  },
  {
   "cell_type": "code",
   "execution_count": 16,
   "metadata": {},
   "outputs": [
    {
     "name": "stdout",
     "output_type": "stream",
     "text": [
      "AspA2I: \\n\\t1214 cuts\\n\\tavg product size = 22593\\n\\tcutting frequency = 4096, AsuNHI: \\n\\t4371 cuts\\n\\tavg product size = 6279\\n\\tcutting frequency = 4096, Aor13HI: \\n\\t8612 cuts\\n\\tavg product size = 3187\\n\\tcutting frequency = 4096, AsuII: \\n\\t11970 cuts\\n\\tavg product size = 2293\\n\\tcutting frequency = 4096, PdmI: \\n\\t12780 cuts\\n\\tavg product size = 2148\\n\\tcutting frequency = 4096\n"
     ]
    }
   ],
   "source": [
    "print(str({k:(\"\\n\\t\" + \"\\n\\t\".join([f\"{v} cuts\", f\"avg product size = {find_avg_product_length(k, old_assembly_nuclear)}\", f\"cutting frequency = {round(k.frequency())}\"]))  for k, v in sorted(list(num_of_cuts_in_old_n_genome_per_enzyme.items())[0:5], key=lambda item: item[1])}).strip(\"{}\").replace(\"'\",\"\"))"
   ]
  },
  {
   "cell_type": "code",
   "execution_count": 58,
   "metadata": {},
   "outputs": [],
   "source": [
    "test_dict_for_formatting = {k:(\"\\n\\t\" + \"\\n\\t\".join([f\"{v} cuts\", f\"avg product size = {find_avg_product_length(k, old_assembly_nuclear)}\",f\"median product size = {find_median_product_length(k, old_assembly_nuclear)}\", f\"cutting frequency = {round(k.frequency())}\", f\"Overhang type: {k.overhang()}; {k.elucidate()}\"]))  for k, v in reversed(sorted(list(num_of_cuts_in_old_n_genome_per_enzyme.items())[0:5], key=lambda item: item[1]))}\n"
   ]
  },
  {
   "cell_type": "code",
   "execution_count": 59,
   "metadata": {},
   "outputs": [
    {
     "name": "stdout",
     "output_type": "stream",
     "text": [
      "PdmI: \n",
      "\t12780 cuts\n",
      "\tavg product size = 2148\n",
      "\tmedian product size = 1422\n",
      "\tcutting frequency = 4096\n",
      "\tOverhang type: blunt; GAANN^_NNTTC\n",
      "AsuII: \"\n",
      "\t11970 cuts\n",
      "\tavg product size = 2293\n",
      "\tmedian product size = 1510\n",
      "\tcutting frequency = 4096\n",
      "\tOverhang type: 5 overhang; TT^CG_AA\"\n",
      "Aor13HI: \"\n",
      "\t8612 cuts\n",
      "\tavg product size = 3187\n",
      "\tmedian product size = 2020\n",
      "\tcutting frequency = 4096\n",
      "\tOverhang type: 5 overhang; T^CCGG_A\"\n",
      "AsuNHI: \"\n",
      "\t4371 cuts\n",
      "\tavg product size = 6279\n",
      "\tmedian product size = 4140\n",
      "\tcutting frequency = 4096\n",
      "\tOverhang type: 5 overhang; G^CTAG_C\"\n",
      "AspA2I: \"\n",
      "\t1214 cuts\n",
      "\tavg product size = 22593\n",
      "\tmedian product size = 15481\n",
      "\tcutting frequency = 4096\n",
      "\tOverhang type: 5 overhang; C^CTAG_G\"\n"
     ]
    }
   ],
   "source": [
    "print(str(test_dict_for_formatting).strip(\"{}\").replace(\"'\",\"\").replace(r\"\\n\\t\",\"\\n\\t\").replace(\", \",\"\\n\"))"
   ]
  },
  {
   "cell_type": "code",
   "execution_count": null,
   "metadata": {},
   "outputs": [],
   "source": [
    "sorted_num_of_cuts_in_old_n_genome_per_enzyme_detailed = {k:(\"\\n\\t\" + \"\\n\\t\".join([f\"{v} cuts\", f\"avg product size = {find_avg_product_length(k, old_assembly_nuclear)}\",f\"median product size = {find_median_product_length(k, old_assembly_nuclear)}\", f\"cutting frequency = {round(k.frequency())}\", f\"Overhang type: {k.overhang()}; {k.elucidate()}\"]))  for k, v in reversed(sorted(list(num_of_cuts_in_old_n_genome_per_enzyme.items()), key=lambda item: item[1]))}"
   ]
  },
  {
   "cell_type": "code",
   "execution_count": null,
   "metadata": {},
   "outputs": [],
   "source": [
    "sorted_num_of_cuts_in_old_n_genome_per_enzyme_detailed_formatted = str(sorted_num_of_cuts_in_old_n_genome_per_enzyme_detailed).strip(\"{}\").replace(\"'\",\"\").replace(r\"\\n\\t\",\"\\n\\t\").replace(\", \",\"\\n\")"
   ]
  },
  {
   "cell_type": "code",
   "execution_count": null,
   "metadata": {},
   "outputs": [],
   "source": [
    "with open(\"old_genome_whole_nuclear_genome_COMMERCIAL_re_analysis_full.txt\", \"w\") as f:\n",
    "    with contextlib.redirect_stdout(f):\n",
    "        print(\"Restriction site analysis of the nuclear genome using the OLD whole genome assembly (not split by chromosomes).\")\n",
    "        print(\"Performed using COMMERCIAL Restriction enzymes that did not cut the NAT construct.\")\n",
    "        old_nuclear_analysis.print_as('number')\n",
    "        old_nuclear_analysis.print_that()"
   ]
  },
  {
   "cell_type": "code",
   "execution_count": null,
   "metadata": {},
   "outputs": [],
   "source": [
    "with open(\"old_genome_whole_nuclear_genome_COMMERCIAL_re_analysis_summarized.txt\", \"w\") as f:\n",
    "    with contextlib.redirect_stdout(f):\n",
    "        print(\"Restriction site analysis of the nuclear genome using the OLD whole genome assembly (not split by chromosomes).\")\n",
    "        print(\"Performed using COMMERCIAL Restriction enzymes that did not cut the NAT construct.\")\n",
    "        print(\"Printed are the number of times the enzyme cuts in the whole genome, The average product size\")\n",
    "        print(\"\\n\")\n",
    "        print(sorted_num_of_cuts_in_old_n_genome_per_enzyme_detailed_formatted)"
   ]
  },
  {
   "cell_type": "code",
   "execution_count": null,
   "metadata": {},
   "outputs": [],
   "source": [
    "new_nuclear_analysis = Restriction.Analysis(enzymes_that_dont_cut_nat, new_assembly_nuclear, linear=True)"
   ]
  },
  {
   "cell_type": "code",
   "execution_count": null,
   "metadata": {},
   "outputs": [],
   "source": [
    "with open(\"new_genome_whole_nuclear_genome_COMMERCIAL_re_analysis_full.txt\", \"w\") as f:\n",
    "    with contextlib.redirect_stdout(f):\n",
    "        print(\"Restriction site analysis of the nuclear genome using the NEW whole genome assembly (not split by chromosomes).\")\n",
    "        print(\"Performed using COMMERCIAL Restriction enzymes that did not cut the NAT construct.\")\n",
    "        new_nuclear_analysis.print_as('number')\n",
    "        new_nuclear_analysis.print_that()"
   ]
  },
  {
   "cell_type": "code",
   "execution_count": null,
   "metadata": {},
   "outputs": [],
   "source": [
    "num_of_cuts_in_new_n_genome_per_enzyme = {k:len(v) for k,v in new_nuclear_analysis.full().items()}"
   ]
  },
  {
   "cell_type": "code",
   "execution_count": null,
   "metadata": {},
   "outputs": [],
   "source": [
    "sorted_num_of_cuts_in_new_n_genome_per_enzyme_detailed = {k:(\"\\n\\t\" + \"\\n\\t\".join([f\"{v} cuts\", f\"avg product size = {find_avg_product_length(k, new_assembly_nuclear)}\",f\"median product size = {find_median_product_length(k, new_assembly_nuclear)}\", f\"cutting frequency = {round(k.frequency())}\", f\"Overhang type: {k.overhang()}; {k.elucidate()}\"]))  for k, v in reversed(sorted(list(num_of_cuts_in_new_n_genome_per_enzyme.items()), key=lambda item: item[1]))}"
   ]
  },
  {
   "cell_type": "code",
   "execution_count": null,
   "metadata": {},
   "outputs": [],
   "source": [
    "sorted_num_of_cuts_in_new_n_genome_per_enzyme_detailed_formatted = str(sorted_num_of_cuts_in_new_n_genome_per_enzyme_detailed).strip(\"{}\").replace(\"'\",\"\").replace(r\"\\n\\t\",\"\\n\\t\").replace(\", \",\"\\n\")"
   ]
  },
  {
   "cell_type": "code",
   "execution_count": null,
   "metadata": {},
   "outputs": [],
   "source": [
    "with open(\"new_genome_whole_nuclear_genome_COMMERICAL_re_analysis_summarized.txt\", \"w\") as f:\n",
    "    with contextlib.redirect_stdout(f):\n",
    "        print(\"Restriction site analysis of the nuclear genome using the NEW whole genome assembly (not split by chromosomes).\")\n",
    "        print(\"Performed using COMMERICAL Restriction enzymes that did not cut the NAT construct.\")\n",
    "        print(\"Printed are the number of times the enzyme cuts in the whole genome\")\n",
    "        print(\"\\n\")\n",
    "        print(sorted_num_of_cuts_in_new_n_genome_per_enzyme_detailed_formatted)"
   ]
  },
  {
   "cell_type": "code",
   "execution_count": 61,
   "metadata": {},
   "outputs": [
    {
     "name": "stdout",
     "output_type": "stream",
     "text": [
      "[NbConvertApp] Converting notebook /Volumes/ubdata/mpampuch/PT_NAT_INTEGRATION_SCREENING/re_digest_python/re_analysis_commercial_enzymes.ipynb to script\n",
      "[NbConvertApp] Writing 10011 bytes to /Volumes/ubdata/mpampuch/PT_NAT_INTEGRATION_SCREENING/re_digest_python/re_analysis_commercial_enzymes.py\n"
     ]
    }
   ],
   "source": [
    "# convert jn to script\n",
    "\n",
    "# helps jupyter notebook find pip or conda installed packages. got this from `pip show package-name`. More info here https://stackoverflow.com/questions/15514593/importerror-no-module-named-when-trying-to-run-python-script\n",
    "import sys\n",
    "sys.path.append('/Volumes/data/bin/miniconda3/envs/mark/lib/python3.9/site-packages')\n",
    "\n",
    "# grab full file path of jupyter notebook\n",
    "import ipynbname\n",
    "nb_path = ipynbname.path()\n",
    "\n",
    "# convert to script. Python variables are able to be passed in through a $\n",
    "!jupyter nbconvert --to script $nb_path "
   ]
  },
  {
   "cell_type": "code",
   "execution_count": null,
   "metadata": {},
   "outputs": [],
   "source": []
  }
 ],
 "metadata": {
  "kernelspec": {
   "display_name": "Python 3",
   "language": "python",
   "name": "python3"
  },
  "language_info": {
   "codemirror_mode": {
    "name": "ipython",
    "version": 3
   },
   "file_extension": ".py",
   "mimetype": "text/x-python",
   "name": "python",
   "nbconvert_exporter": "python",
   "pygments_lexer": "ipython3",
   "version": "3.8.5"
  }
 },
 "nbformat": 4,
 "nbformat_minor": 5
}
